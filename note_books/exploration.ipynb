{
 "cells": [
  {
   "cell_type": "code",
   "execution_count": null,
   "id": "aaca77a5",
   "metadata": {},
   "outputs": [],
   "source": [
    "# Cell 1: Setup\n",
    "import pandas as pd\n",
    "import numpy as np\n",
    "import matplotlib.pyplot as plt\n",
    "import seaborn as sns\n",
    "from sklearn.ensemble import RandomForestRegressor\n",
    "from sklearn.model_selection import train_test_split\n",
    "\n",
    "# Cell 2: Load Data\n",
    "train_data = pd.read_csv('../data/train.csv')\n",
    "print(f\"Data shape: {train_data.shape}\")\n",
    "\n",
    "# Cell 3: Target Analysis\n",
    "plt.figure(figsize=(10, 6))\n",
    "sns.histplot(train_data['SalePrice'], kde=True)\n",
    "plt.title('Distribution of SalePrice')\n",
    "plt.show()\n",
    "\n",
    "# Cell 4: Missing Values Analysis\n",
    "missing = train_data.isnull().sum()\n",
    "missing = missing[missing > 0]\n",
    "missing.sort_values(ascending=False, inplace=True)\n",
    "missing.plot(kind='bar', figsize=(12, 6))\n",
    "plt.title('Missing Values per Feature')\n",
    "plt.show()"
   ]
  }
 ],
 "metadata": {
  "kernelspec": {
   "display_name": "base",
   "language": "python",
   "name": "python3"
  },
  "language_info": {
   "name": "python",
   "version": "3.12.7"
  }
 },
 "nbformat": 4,
 "nbformat_minor": 5
}
